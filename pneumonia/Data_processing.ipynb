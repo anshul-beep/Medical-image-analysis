{
 "cells": [
  {
   "cell_type": "code",
   "execution_count": 3,
   "metadata": {},
   "outputs": [
    {
     "name": "stdout",
     "output_type": "stream",
     "text": [
      "Collecting pydicom\n",
      "  Downloading pydicom-3.0.1-py3-none-any.whl.metadata (9.4 kB)\n",
      "Downloading pydicom-3.0.1-py3-none-any.whl (2.4 MB)\n",
      "   ---------------------------------------- 0.0/2.4 MB ? eta -:--:--\n",
      "   ---------------------------------------- 0.0/2.4 MB ? eta -:--:--\n",
      "   ---------------------------------------- 0.0/2.4 MB 640.0 kB/s eta 0:00:04\n",
      "   - -------------------------------------- 0.1/2.4 MB 544.7 kB/s eta 0:00:05\n",
      "   -- ------------------------------------- 0.1/2.4 MB 798.9 kB/s eta 0:00:03\n",
      "   --- ------------------------------------ 0.2/2.4 MB 1.2 MB/s eta 0:00:02\n",
      "   ------- -------------------------------- 0.4/2.4 MB 1.8 MB/s eta 0:00:02\n",
      "   --------- ------------------------------ 0.6/2.4 MB 1.9 MB/s eta 0:00:01\n",
      "   ---------- ----------------------------- 0.6/2.4 MB 2.0 MB/s eta 0:00:01\n",
      "   -------------- ------------------------- 0.9/2.4 MB 2.3 MB/s eta 0:00:01\n",
      "   -------------- ------------------------- 0.9/2.4 MB 2.3 MB/s eta 0:00:01\n",
      "   ------------------ --------------------- 1.1/2.4 MB 2.4 MB/s eta 0:00:01\n",
      "   ---------------------- ----------------- 1.4/2.4 MB 2.6 MB/s eta 0:00:01\n",
      "   --------------------------- ------------ 1.6/2.4 MB 2.9 MB/s eta 0:00:01\n",
      "   -------------------------------- ------- 1.9/2.4 MB 3.1 MB/s eta 0:00:01\n",
      "   ------------------------------------ --- 2.1/2.4 MB 3.2 MB/s eta 0:00:01\n",
      "   ---------------------------------------  2.4/2.4 MB 3.4 MB/s eta 0:00:01\n",
      "   ---------------------------------------- 2.4/2.4 MB 3.3 MB/s eta 0:00:00\n",
      "Installing collected packages: pydicom\n",
      "Successfully installed pydicom-3.0.1\n"
     ]
    },
    {
     "name": "stderr",
     "output_type": "stream",
     "text": [
      "\n",
      "[notice] A new release of pip is available: 24.0 -> 24.2\n",
      "[notice] To update, run: python.exe -m pip install --upgrade pip\n"
     ]
    }
   ],
   "source": [
    "!pip install pydicom"
   ]
  },
  {
   "cell_type": "code",
   "execution_count": 5,
   "metadata": {},
   "outputs": [],
   "source": [
    "from pathlib import Path \n",
    "import pydicom #to read dicom files\n",
    "import numpy as np\n",
    "import cv2\n",
    "import pandas as pd\n",
    "import matplotlib.pyplot as plt\n",
    "from tqdm.notebook import tqdm #to get a progress bar\n"
   ]
  },
  {
   "cell_type": "code",
   "execution_count": null,
   "metadata": {},
   "outputs": [],
   "source": [
    "labels=pd.read_csv()"
   ]
  },
  {
   "cell_type": "code",
   "execution_count": 2,
   "metadata": {},
   "outputs": [],
   "source": [
    "import torch"
   ]
  },
  {
   "cell_type": "code",
   "execution_count": 3,
   "metadata": {},
   "outputs": [
    {
     "name": "stdout",
     "output_type": "stream",
     "text": [
      "1\n"
     ]
    }
   ],
   "source": [
    "print(torch.cuda.device_count())"
   ]
  },
  {
   "cell_type": "code",
   "execution_count": 4,
   "metadata": {},
   "outputs": [
    {
     "name": "stdout",
     "output_type": "stream",
     "text": [
      "NVIDIA GeForce GTX 1650 Ti\n"
     ]
    }
   ],
   "source": [
    "if torch.cuda.is_available():\n",
    "    print(torch.cuda.get_device_name(0))  # Get the name of the first GPU\n"
   ]
  },
  {
   "cell_type": "code",
   "execution_count": null,
   "metadata": {},
   "outputs": [],
   "source": []
  },
  {
   "cell_type": "code",
   "execution_count": null,
   "metadata": {},
   "outputs": [],
   "source": []
  }
 ],
 "metadata": {
  "kernelspec": {
   "display_name": "Python 3",
   "language": "python",
   "name": "python3"
  },
  "language_info": {
   "codemirror_mode": {
    "name": "ipython",
    "version": 3
   },
   "file_extension": ".py",
   "mimetype": "text/x-python",
   "name": "python",
   "nbconvert_exporter": "python",
   "pygments_lexer": "ipython3",
   "version": "3.12.0"
  }
 },
 "nbformat": 4,
 "nbformat_minor": 2
}
